{
 "cells": [
  {
   "cell_type": "code",
   "execution_count": 1,
   "id": "84d317af",
   "metadata": {},
   "outputs": [],
   "source": [
    "import numpy as np\n",
    "import tensorflow as tf \n",
    "from sklearn import preprocessing "
   ]
  },
  {
   "cell_type": "markdown",
   "id": "48cde330",
   "metadata": {},
   "source": [
    "## Preprocessing data."
   ]
  },
  {
   "cell_type": "code",
   "execution_count": 2,
   "id": "ff493cf1",
   "metadata": {},
   "outputs": [
    {
     "data": {
      "text/plain": [
       "(14084, 12)"
      ]
     },
     "execution_count": 2,
     "metadata": {},
     "output_type": "execute_result"
    }
   ],
   "source": [
    "raw_csv_data = np.loadtxt('Audiobooks_data.csv',delimiter=',')\n",
    "raw_csv_data.shape"
   ]
  },
  {
   "cell_type": "code",
   "execution_count": 3,
   "id": "ed1b1fe3",
   "metadata": {},
   "outputs": [
    {
     "data": {
      "text/plain": [
       "(14084, 10)"
      ]
     },
     "execution_count": 3,
     "metadata": {},
     "output_type": "execute_result"
    }
   ],
   "source": [
    "unscaled_inputs_all = raw_csv_data[:,1:-1]\n",
    "target_all = raw_csv_data[:,-1] #will only contain column \n",
    "unscaled_inputs_all.shape"
   ]
  },
  {
   "cell_type": "code",
   "execution_count": 4,
   "id": "9c034e1b",
   "metadata": {},
   "outputs": [
    {
     "data": {
      "text/plain": [
       "(14084,)"
      ]
     },
     "execution_count": 4,
     "metadata": {},
     "output_type": "execute_result"
    }
   ],
   "source": [
    "target_all.shape"
   ]
  },
  {
   "cell_type": "markdown",
   "id": "7d55704d",
   "metadata": {},
   "source": [
    "### Balancing data.\n"
   ]
  },
  {
   "cell_type": "code",
   "execution_count": 5,
   "id": "9838e68e",
   "metadata": {},
   "outputs": [],
   "source": [
    "num_one_targets = int(np.sum(target_all))\n",
    "zero_targets_counter = 0\n",
    "indices_to_remove = []\n",
    "\n",
    "for i in range(target_all.shape[0]):\n",
    "    if target_all[i] == 0 : \n",
    "        zero_targets_counter += 1\n",
    "        if zero_targets_counter > num_one_targets:\n",
    "            indices_to_remove.append(i) #will store all the indices after which the number of 0 = number of 1.\n",
    "            \n",
    "unscaled_input_equal_prior = np.delete(unscaled_inputs_all,indices_to_remove,axis=0) #We will delete that row.\n",
    "target_equal_prior = np.delete(target_all,indices_to_remove,axis=0) #Doing the same for targets."
   ]
  },
  {
   "cell_type": "markdown",
   "id": "24205082",
   "metadata": {},
   "source": [
    "### Standardizing inputs. "
   ]
  },
  {
   "cell_type": "code",
   "execution_count": 6,
   "id": "9990994e",
   "metadata": {},
   "outputs": [
    {
     "data": {
      "text/plain": [
       "array([[ 0.21053387, -0.18888517,  1.97823887, ...,  4.80955413,\n",
       "        11.83828419,  0.09415043],\n",
       "       [ 1.27894497,  0.41646744, -0.39082475, ..., -0.41569922,\n",
       "        -0.20183481, -0.80255852],\n",
       "       [ 1.27894497,  0.41646744, -0.39082475, ..., -0.41569922,\n",
       "        -0.20183481,  2.979214  ],\n",
       "       ...,\n",
       "       [ 1.27894497,  0.41646744, -0.39082475, ..., -0.41569922,\n",
       "        -0.20183481, -0.7440775 ],\n",
       "       [ 0.31737498,  1.7482432 ,  0.04679395, ..., -0.41569922,\n",
       "        -0.20183481, -0.80255852],\n",
       "       [ 0.31737498,  1.7482432 , -0.39082475, ..., -0.41569922,\n",
       "        -0.20183481, -0.80255852]])"
      ]
     },
     "execution_count": 6,
     "metadata": {},
     "output_type": "execute_result"
    }
   ],
   "source": [
    "scaled_inputs = preprocessing.scale(unscaled_input_equal_prior)\n",
    "scaled_inputs"
   ]
  },
  {
   "cell_type": "markdown",
   "id": "095a5e05",
   "metadata": {},
   "source": [
    "## Shuffling the data.\n",
    "### We do this to completely randomize the inputs."
   ]
  },
  {
   "cell_type": "code",
   "execution_count": 7,
   "id": "50a2d9be",
   "metadata": {},
   "outputs": [],
   "source": [
    "shuffled_indices = np.arange(scaled_inputs.shape[0])\n",
    "np.random.shuffle(shuffled_indices) #shuffling the list of indices\n",
    "\n",
    "shuffled_inputs=scaled_inputs[shuffled_indices]\n",
    "shuffled_targets=target_equal_prior[shuffled_indices]"
   ]
  },
  {
   "cell_type": "markdown",
   "id": "407f8f34",
   "metadata": {},
   "source": [
    "## Splitting the data into train,validation and test."
   ]
  },
  {
   "cell_type": "code",
   "execution_count": 8,
   "id": "41a6f67a",
   "metadata": {},
   "outputs": [
    {
     "data": {
      "text/plain": [
       "448"
      ]
     },
     "execution_count": 8,
     "metadata": {},
     "output_type": "execute_result"
    }
   ],
   "source": [
    "total_sample_count = shuffled_inputs.shape[0]\n",
    "\n",
    "train_sample_count = int(0.8*total_sample_count)\n",
    "validation_sample_count = int(0.1*total_sample_count)\n",
    "test_sample_count = total_sample_count - train_sample_count - validation_sample_count\n",
    "test_sample_count"
   ]
  },
  {
   "cell_type": "code",
   "execution_count": 9,
   "id": "ade4224b",
   "metadata": {},
   "outputs": [],
   "source": [
    "train_inputs=shuffled_inputs[:train_sample_count]\n",
    "train_targets=shuffled_targets[:train_sample_count]\n",
    "\n",
    "validation_inputs=shuffled_inputs[train_sample_count:train_sample_count+validation_sample_count]\n",
    "validation_targets=shuffled_targets[train_sample_count:train_sample_count+validation_sample_count]\n",
    "\n",
    "test_inputs=shuffled_inputs[train_sample_count+validation_sample_count:]\n",
    "test_targets=shuffled_targets[train_sample_count+validation_sample_count:]"
   ]
  },
  {
   "cell_type": "code",
   "execution_count": 10,
   "id": "1f922e03",
   "metadata": {},
   "outputs": [
    {
     "name": "stdout",
     "output_type": "stream",
     "text": [
      "1786.0 3579 49.90220732048058\n",
      "221.0 447 49.44071588366891\n",
      "230.0 448 51.33928571428571\n"
     ]
    }
   ],
   "source": [
    "print(np.sum(train_targets), train_sample_count, (np.sum(train_targets)/train_sample_count*100.00))\n",
    "print(np.sum(validation_targets), validation_sample_count, (np.sum(validation_targets)/validation_sample_count*100.00))\n",
    "print(np.sum(test_targets), test_sample_count, (np.sum(test_targets)/test_sample_count*100.00))\n",
    "\n",
    "#50-50 is balanced."
   ]
  },
  {
   "cell_type": "markdown",
   "id": "82ad4dd5",
   "metadata": {},
   "source": [
    "### saving .npz file"
   ]
  },
  {
   "cell_type": "code",
   "execution_count": 11,
   "id": "1b621225",
   "metadata": {},
   "outputs": [],
   "source": [
    "np.savez('Audiobooks_data_train',inputs=train_inputs,targets=train_targets)\n",
    "np.savez('Audiobooks_data_validation',inputs=validation_inputs,targets=validation_targets)\n",
    "np.savez('Audiobooks_data_test',inputs=test_inputs,targets=test_targets)"
   ]
  },
  {
   "cell_type": "markdown",
   "id": "9bc54d92",
   "metadata": {},
   "source": [
    "### Extracting the files."
   ]
  },
  {
   "cell_type": "code",
   "execution_count": 12,
   "id": "0d31dedf",
   "metadata": {},
   "outputs": [
    {
     "name": "stderr",
     "output_type": "stream",
     "text": [
      "C:\\Users\\kunal\\AppData\\Local\\Temp\\ipykernel_22696\\1278941020.py:3: DeprecationWarning: `np.float` is a deprecated alias for the builtin `float`. To silence this warning, use `float` by itself. Doing this will not modify any behavior and is safe. If you specifically wanted the numpy scalar type, use `np.float64` here.\n",
      "Deprecated in NumPy 1.20; for more details and guidance: https://numpy.org/devdocs/release/1.20.0-notes.html#deprecations\n",
      "  train_inputs = npz['inputs'].astype(np.float) #just to make sure that we get float values\n",
      "C:\\Users\\kunal\\AppData\\Local\\Temp\\ipykernel_22696\\1278941020.py:4: DeprecationWarning: `np.int` is a deprecated alias for the builtin `int`. To silence this warning, use `int` by itself. Doing this will not modify any behavior and is safe. When replacing `np.int`, you may wish to use e.g. `np.int64` or `np.int32` to specify the precision. If you wish to review your current use, check the release note link for additional information.\n",
      "Deprecated in NumPy 1.20; for more details and guidance: https://numpy.org/devdocs/release/1.20.0-notes.html#deprecations\n",
      "  train_targets = npz['targets'].astype(np.int) #same here, but for int.\n",
      "C:\\Users\\kunal\\AppData\\Local\\Temp\\ipykernel_22696\\1278941020.py:8: DeprecationWarning: `np.float` is a deprecated alias for the builtin `float`. To silence this warning, use `float` by itself. Doing this will not modify any behavior and is safe. If you specifically wanted the numpy scalar type, use `np.float64` here.\n",
      "Deprecated in NumPy 1.20; for more details and guidance: https://numpy.org/devdocs/release/1.20.0-notes.html#deprecations\n",
      "  validation_inputs = npz['inputs'].astype(np.float) #just to make sure that we get float values\n",
      "C:\\Users\\kunal\\AppData\\Local\\Temp\\ipykernel_22696\\1278941020.py:9: DeprecationWarning: `np.int` is a deprecated alias for the builtin `int`. To silence this warning, use `int` by itself. Doing this will not modify any behavior and is safe. When replacing `np.int`, you may wish to use e.g. `np.int64` or `np.int32` to specify the precision. If you wish to review your current use, check the release note link for additional information.\n",
      "Deprecated in NumPy 1.20; for more details and guidance: https://numpy.org/devdocs/release/1.20.0-notes.html#deprecations\n",
      "  validation_targets = npz['targets'].astype(np.int)\n",
      "C:\\Users\\kunal\\AppData\\Local\\Temp\\ipykernel_22696\\1278941020.py:13: DeprecationWarning: `np.float` is a deprecated alias for the builtin `float`. To silence this warning, use `float` by itself. Doing this will not modify any behavior and is safe. If you specifically wanted the numpy scalar type, use `np.float64` here.\n",
      "Deprecated in NumPy 1.20; for more details and guidance: https://numpy.org/devdocs/release/1.20.0-notes.html#deprecations\n",
      "  test_inputs = npz['inputs'].astype(np.float) #just to make sure that we get float values\n",
      "C:\\Users\\kunal\\AppData\\Local\\Temp\\ipykernel_22696\\1278941020.py:14: DeprecationWarning: `np.int` is a deprecated alias for the builtin `int`. To silence this warning, use `int` by itself. Doing this will not modify any behavior and is safe. When replacing `np.int`, you may wish to use e.g. `np.int64` or `np.int32` to specify the precision. If you wish to review your current use, check the release note link for additional information.\n",
      "Deprecated in NumPy 1.20; for more details and guidance: https://numpy.org/devdocs/release/1.20.0-notes.html#deprecations\n",
      "  test_targets = npz['targets'].astype(np.int)\n"
     ]
    }
   ],
   "source": [
    "npz = np.load('Audiobooks_data_train.npz')\n",
    "\n",
    "train_inputs = npz['inputs'].astype(np.float) #just to make sure that we get float values\n",
    "train_targets = npz['targets'].astype(np.int) #same here, but for int.\n",
    "\n",
    "npz = np.load('Audiobooks_data_validation.npz')\n",
    "\n",
    "validation_inputs = npz['inputs'].astype(np.float) #just to make sure that we get float values\n",
    "validation_targets = npz['targets'].astype(np.int)\n",
    "\n",
    "npz = np.load('Audiobooks_data_test.npz')\n",
    "\n",
    "test_inputs = npz['inputs'].astype(np.float) #just to make sure that we get float values\n",
    "test_targets = npz['targets'].astype(np.int)"
   ]
  },
  {
   "cell_type": "markdown",
   "id": "11149ef1",
   "metadata": {},
   "source": [
    "## Model "
   ]
  },
  {
   "cell_type": "code",
   "execution_count": 13,
   "id": "0b062f7a",
   "metadata": {},
   "outputs": [],
   "source": [
    "input_size = 10 #Depends on 10 factors.\n",
    "output_size = 2 #Since we to see if the customer will return or not\n",
    "hidden_layer_size = 100 #This was initially set to 50 but then I have changed to different values like 150,100 but found this...\n",
    "#as the best one beacuse this gives the val_acc and test_acc very close which means that there is overfitting of the model...\n",
    "#with respect to the validation data.\n",
    "\n",
    "model = tf.keras.Sequential([\n",
    "                           \n",
    "                            tf.keras.layers.Dense(hidden_layer_size,activation='relu'), #Layer 2 - hidden\n",
    "                            tf.keras.layers.Dense(hidden_layer_size,activation='relu'), #Layer 3 - hidden\n",
    "                            tf.keras.layers.Dense(output_size,activation='softmax')     #Layer 4 - output\n",
    "                            ]) #Notice for the activation we ues softmax, Since we want to give probality.\n",
    "\n",
    "model.compile(optimizer='adam',loss='sparse_categorical_crossentropy',metrics=['accuracy'])"
   ]
  },
  {
   "cell_type": "code",
   "execution_count": 14,
   "id": "1e0d0eb1",
   "metadata": {},
   "outputs": [
    {
     "name": "stdout",
     "output_type": "stream",
     "text": [
      "Epoch 1/100\n",
      "18/18 - 1s - loss: 0.5919 - accuracy: 0.6949 - val_loss: 0.5004 - val_accuracy: 0.7718 - 600ms/epoch - 33ms/step\n",
      "Epoch 2/100\n",
      "18/18 - 0s - loss: 0.4635 - accuracy: 0.7681 - val_loss: 0.4271 - val_accuracy: 0.8054 - 39ms/epoch - 2ms/step\n",
      "Epoch 3/100\n",
      "18/18 - 0s - loss: 0.4092 - accuracy: 0.7907 - val_loss: 0.3929 - val_accuracy: 0.8009 - 36ms/epoch - 2ms/step\n",
      "Epoch 4/100\n",
      "18/18 - 0s - loss: 0.3867 - accuracy: 0.7941 - val_loss: 0.3698 - val_accuracy: 0.8322 - 34ms/epoch - 2ms/step\n",
      "Epoch 5/100\n",
      "18/18 - 0s - loss: 0.3737 - accuracy: 0.7963 - val_loss: 0.3619 - val_accuracy: 0.8277 - 35ms/epoch - 2ms/step\n",
      "Epoch 6/100\n",
      "18/18 - 0s - loss: 0.3638 - accuracy: 0.8072 - val_loss: 0.3474 - val_accuracy: 0.8322 - 34ms/epoch - 2ms/step\n",
      "Epoch 7/100\n",
      "18/18 - 0s - loss: 0.3585 - accuracy: 0.7997 - val_loss: 0.3506 - val_accuracy: 0.8255 - 36ms/epoch - 2ms/step\n",
      "Epoch 8/100\n",
      "18/18 - 0s - loss: 0.3525 - accuracy: 0.8086 - val_loss: 0.3412 - val_accuracy: 0.8523 - 34ms/epoch - 2ms/step\n",
      "Epoch 9/100\n",
      "18/18 - 0s - loss: 0.3479 - accuracy: 0.8120 - val_loss: 0.3352 - val_accuracy: 0.8501 - 45ms/epoch - 2ms/step\n",
      "Epoch 10/100\n",
      "18/18 - 0s - loss: 0.3418 - accuracy: 0.8125 - val_loss: 0.3384 - val_accuracy: 0.8367 - 47ms/epoch - 3ms/step\n",
      "Epoch 11/100\n",
      "18/18 - 0s - loss: 0.3404 - accuracy: 0.8156 - val_loss: 0.3319 - val_accuracy: 0.8523 - 41ms/epoch - 2ms/step\n",
      "Epoch 12/100\n",
      "18/18 - 0s - loss: 0.3370 - accuracy: 0.8237 - val_loss: 0.3293 - val_accuracy: 0.8277 - 43ms/epoch - 2ms/step\n",
      "Epoch 13/100\n",
      "18/18 - 0s - loss: 0.3384 - accuracy: 0.8161 - val_loss: 0.3396 - val_accuracy: 0.8121 - 41ms/epoch - 2ms/step\n",
      "Epoch 14/100\n",
      "18/18 - 0s - loss: 0.3347 - accuracy: 0.8206 - val_loss: 0.3304 - val_accuracy: 0.8255 - 34ms/epoch - 2ms/step\n",
      "Epoch 15/100\n",
      "18/18 - 0s - loss: 0.3344 - accuracy: 0.8201 - val_loss: 0.3227 - val_accuracy: 0.8456 - 40ms/epoch - 2ms/step\n",
      "Epoch 16/100\n",
      "18/18 - 0s - loss: 0.3398 - accuracy: 0.8125 - val_loss: 0.3269 - val_accuracy: 0.8300 - 52ms/epoch - 3ms/step\n",
      "Epoch 17/100\n",
      "18/18 - 0s - loss: 0.3302 - accuracy: 0.8209 - val_loss: 0.3201 - val_accuracy: 0.8322 - 39ms/epoch - 2ms/step\n",
      "Epoch 18/100\n",
      "18/18 - 0s - loss: 0.3299 - accuracy: 0.8209 - val_loss: 0.3198 - val_accuracy: 0.8367 - 39ms/epoch - 2ms/step\n",
      "Epoch 19/100\n",
      "18/18 - 0s - loss: 0.3292 - accuracy: 0.8215 - val_loss: 0.3185 - val_accuracy: 0.8345 - 38ms/epoch - 2ms/step\n",
      "Epoch 20/100\n",
      "18/18 - 0s - loss: 0.3257 - accuracy: 0.8259 - val_loss: 0.3163 - val_accuracy: 0.8456 - 41ms/epoch - 2ms/step\n",
      "Epoch 21/100\n",
      "18/18 - 0s - loss: 0.3226 - accuracy: 0.8262 - val_loss: 0.3168 - val_accuracy: 0.8456 - 40ms/epoch - 2ms/step\n",
      "Epoch 22/100\n",
      "18/18 - 0s - loss: 0.3225 - accuracy: 0.8279 - val_loss: 0.3261 - val_accuracy: 0.8322 - 40ms/epoch - 2ms/step\n",
      "Epoch 23/100\n",
      "18/18 - 0s - loss: 0.3191 - accuracy: 0.8287 - val_loss: 0.3229 - val_accuracy: 0.8277 - 39ms/epoch - 2ms/step\n",
      "Epoch 24/100\n",
      "18/18 - 0s - loss: 0.3281 - accuracy: 0.8195 - val_loss: 0.3254 - val_accuracy: 0.8210 - 42ms/epoch - 2ms/step\n",
      "Epoch 25/100\n",
      "18/18 - 0s - loss: 0.3234 - accuracy: 0.8223 - val_loss: 0.3106 - val_accuracy: 0.8322 - 48ms/epoch - 3ms/step\n",
      "Epoch 26/100\n",
      "18/18 - 0s - loss: 0.3232 - accuracy: 0.8184 - val_loss: 0.3160 - val_accuracy: 0.8412 - 47ms/epoch - 3ms/step\n",
      "Epoch 27/100\n",
      "18/18 - 0s - loss: 0.3212 - accuracy: 0.8234 - val_loss: 0.3156 - val_accuracy: 0.8389 - 43ms/epoch - 2ms/step\n",
      "Epoch 28/100\n",
      "18/18 - 0s - loss: 0.3176 - accuracy: 0.8284 - val_loss: 0.3213 - val_accuracy: 0.8277 - 45ms/epoch - 2ms/step\n",
      "Epoch 29/100\n",
      "18/18 - 0s - loss: 0.3148 - accuracy: 0.8268 - val_loss: 0.3262 - val_accuracy: 0.8277 - 41ms/epoch - 2ms/step\n",
      "Epoch 30/100\n",
      "18/18 - 0s - loss: 0.3158 - accuracy: 0.8284 - val_loss: 0.3142 - val_accuracy: 0.8345 - 40ms/epoch - 2ms/step\n"
     ]
    },
    {
     "data": {
      "text/plain": [
       "<keras.src.callbacks.History at 0x176065c0a90>"
      ]
     },
     "execution_count": 14,
     "metadata": {},
     "output_type": "execute_result"
    }
   ],
   "source": [
    "BATCH_SIZE = 200\n",
    "MAX_EPOCHS = 100\n",
    "\n",
    "early_stopping = tf.keras.callbacks.EarlyStopping(patience=5) #This will help us early stop the model to prevent overfitting...\n",
    "#wrt the training data provided to the model. The patience parameter will run that many amount of epochs without any...\n",
    "#restriction. If let's say we keep the brackets empty. it will start to assess from the start itself.\n",
    "\n",
    "model.fit(train_inputs,\n",
    "          train_targets,\n",
    "          batch_size=BATCH_SIZE,\n",
    "          epochs=MAX_EPOCHS,\n",
    "          callbacks=[early_stopping],\n",
    "          validation_data=(validation_inputs,validation_targets),\n",
    "          \n",
    "          verbose=2)"
   ]
  },
  {
   "cell_type": "markdown",
   "id": "fe0f43b0",
   "metadata": {},
   "source": [
    "### Testing the model."
   ]
  },
  {
   "cell_type": "code",
   "execution_count": 15,
   "id": "d66a1e71",
   "metadata": {},
   "outputs": [
    {
     "name": "stdout",
     "output_type": "stream",
     "text": [
      "14/14 [==============================] - 0s 1ms/step - loss: 0.3113 - accuracy: 0.8192\n"
     ]
    }
   ],
   "source": [
    "test_loss, test_acc = model.evaluate(test_inputs,test_targets)"
   ]
  },
  {
   "cell_type": "code",
   "execution_count": 16,
   "id": "42b15add",
   "metadata": {},
   "outputs": [
    {
     "data": {
      "text/plain": [
       "0.3113090395927429"
      ]
     },
     "execution_count": 16,
     "metadata": {},
     "output_type": "execute_result"
    }
   ],
   "source": [
    "test_loss"
   ]
  },
  {
   "cell_type": "code",
   "execution_count": 17,
   "id": "c034180a",
   "metadata": {},
   "outputs": [
    {
     "name": "stdout",
     "output_type": "stream",
     "text": [
      "Test accuracy : 81.91964030265808\n"
     ]
    }
   ],
   "source": [
    "print(\"Test accuracy : \" +str(test_acc*100.00))"
   ]
  },
  {
   "cell_type": "code",
   "execution_count": null,
   "id": "6ed3557d",
   "metadata": {},
   "outputs": [],
   "source": []
  },
  {
   "cell_type": "code",
   "execution_count": null,
   "id": "469a076e",
   "metadata": {},
   "outputs": [],
   "source": []
  },
  {
   "cell_type": "code",
   "execution_count": null,
   "id": "e1c34d26",
   "metadata": {},
   "outputs": [],
   "source": []
  }
 ],
 "metadata": {
  "kernelspec": {
   "display_name": "Python 3 (ipykernel)",
   "language": "python",
   "name": "python3"
  },
  "language_info": {
   "codemirror_mode": {
    "name": "ipython",
    "version": 3
   },
   "file_extension": ".py",
   "mimetype": "text/x-python",
   "name": "python",
   "nbconvert_exporter": "python",
   "pygments_lexer": "ipython3",
   "version": "3.10.6"
  }
 },
 "nbformat": 4,
 "nbformat_minor": 5
}
